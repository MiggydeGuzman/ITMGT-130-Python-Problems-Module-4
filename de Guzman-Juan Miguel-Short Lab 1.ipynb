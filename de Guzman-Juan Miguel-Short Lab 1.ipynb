{
 "cells": [
  {
   "cell_type": "markdown",
   "metadata": {},
   "source": [
    "# Student ID\n",
    "### 172717\n",
    "\n",
    "# Surname\n",
    "### de Guzman\n",
    "\n",
    "# Year and Course\n",
    "### 4 BS MGT"
   ]
  },
  {
   "cell_type": "markdown",
   "metadata": {},
   "source": [
    "# Problem 1\n",
    "(3 Points)\n",
    "\n",
    "Write a program that accepts an amount in US Dollars and converts to Philippine Pesos.\n",
    "\n",
    "The input prompts must be as follows:\n",
    "\n",
    "Enter the amount in US Dollars: \n",
    "\n",
    "The output should be as follows:\n",
    "\n",
    "[us dollar amount] US dollar(s) = [philippine peso amount] Philippine Pesos.\n",
    "\n",
    "You must define a function dollars_to_pesos which accepts the amount in US dollars and returns the amount in Philippine Pesos.\n",
    "\n",
    "Assume, for simplicity, that the conversion rate is PHP50 to USD 1.\n",
    "\n",
    "Sample Input:\n",
    "\n",
    "Enter the amount in US Dollars: 1\n",
    "\n",
    "Sample Output:\n",
    "\n",
    "1 US dollar(s) = 50 Philippine Pesos.\n",
    "\n",
    "Sample Input:\n",
    "\n",
    "Enter the amount in US Dollars: 20\n",
    "\n",
    "Sample Output:\n",
    "\n",
    "20 US dollar(s) = 1000 Philippine Pesos."
   ]
  },
  {
   "cell_type": "code",
   "execution_count": 1,
   "metadata": {},
   "outputs": [
    {
     "name": "stdout",
     "output_type": "stream",
     "text": [
      "Enter the amount in US Dollars: 3\n",
      "3.0 US Dollar(s) = 150.0 Philippine Pesos.\n"
     ]
    }
   ],
   "source": [
    "CONV = 50\n",
    "\n",
    "def dollars_to_pesos(USD, CONV):\n",
    "    converted = USD * CONV\n",
    "    return converted\n",
    "\n",
    "USD = float(input(\"Enter the amount in US Dollars: \"))\n",
    "                \n",
    "converted = dollars_to_pesos(USD, CONV)\n",
    "                \n",
    "print(USD, \"US Dollar(s) =\", converted, \"Philippine Pesos.\")"
   ]
  },
  {
   "cell_type": "markdown",
   "metadata": {},
   "source": [
    "# Problem 2\n",
    "(3 Points)\n",
    "\n",
    "Write a program that accepts two positive integers, a and b, one per line.\n",
    "\n",
    "The output should be as follows:\n",
    "\n",
    "The first line should be the sum of a and b.\n",
    "\n",
    "The second line should be b subtracted from a.\n",
    "\n",
    "The third line should be the product of a and b.\n",
    "\n",
    "The fourth line should be the quotient when a is divided by b, excluding the remainder.\n",
    "\n",
    "The fifth line should be the remainder when a is divided by b.\n",
    "\n",
    "Sample Input:\n",
    "\n",
    "55  \n",
    "3\n",
    "\n",
    "Sample Output:\n",
    "\n",
    "58  \n",
    "52  \n",
    "165  \n",
    "18  \n",
    "1  \n",
    "\n",
    "\n",
    "Sample Input:\n",
    "\n",
    "128  \n",
    "8\n",
    "\n",
    "Sample Output:\n",
    "\n",
    "136  \n",
    "120  \n",
    "1024  \n",
    "16  \n",
    "0  "
   ]
  },
  {
   "cell_type": "code",
   "execution_count": 2,
   "metadata": {},
   "outputs": [
    {
     "name": "stdout",
     "output_type": "stream",
     "text": [
      "Input Integer A: 55\n",
      "Input Integer B: 3\n",
      "58\n",
      "52\n",
      "165\n",
      "18\n",
      "1\n"
     ]
    }
   ],
   "source": [
    "a = int(input(\"Input Integer A: \"))\n",
    "b = int(input(\"Input Integer B: \"))\n",
    "\n",
    "print(a + b)\n",
    "print(a - b)\n",
    "print(a * b)\n",
    "print(a // b)\n",
    "print(a % b)\n"
   ]
  },
  {
   "cell_type": "markdown",
   "metadata": {},
   "source": [
    "# Problem 3\n",
    "(4 Points)\n",
    "\n",
    "Write a program that computes for your Body Mass Index (BMI). The formula for the BMI is as follows:\n",
    "\n",
    "BMI=kg/m^2\n",
    "\n",
    "where kg is a person's weight in kilograms and m is height in meters.\n",
    "\n",
    "Define a function compute_bmi that accepts kg and m as parameters and returns the BMI.\n",
    "\n",
    "Be sure to convert cm to meters for the formula to work; write a function convert_cm_to_m which accepts a parameter cm and returns the meters. Feel free to Google the conversion.\n",
    "\n",
    "Make sure that the program prompts the user with Enter kg and Enter cm for kg and cm respectively.\n",
    "\n",
    "Your output should be in the form BMI: <computed bmi>\n",
    "\n",
    "Sample Input\n",
    "\n",
    "Enter kg: 65\n",
    "Enter cm: 180\n",
    "\n",
    "Sample Output\n",
    "\n",
    "BMI: 20.061728395061728\n",
    "\n",
    "Sample Input\n",
    "\n",
    "Enter kg: 67\n",
    "Enter cm: 178\n",
    "\n",
    "Sample Output\n",
    "\n",
    "BMI: 21.146319909102385\n",
    "\n",
    "Sample Input\n",
    "\n",
    "Enter kg: 70\n",
    "Enter cm: 170\n",
    "\n",
    "Sample Output\n",
    "\n",
    "BMI: 24.221453287197235"
   ]
  },
  {
   "cell_type": "code",
   "execution_count": 3,
   "metadata": {},
   "outputs": [
    {
     "name": "stdout",
     "output_type": "stream",
     "text": [
      "Enter kg: 65\n",
      "Enter cm: 170\n",
      "BMI:  22.49134948096886\n"
     ]
    }
   ],
   "source": [
    "CONVm = 0.01\n",
    "\n",
    "def convert_cm_to_m(cm, CONVm):\n",
    "    converted_to_m = cm * CONVm\n",
    "    return converted_to_m\n",
    "\n",
    "def compute_bmi(kg, converted_to_m):\n",
    "    bmi = kg / converted_to_m ** 2\n",
    "    return bmi\n",
    "\n",
    "kg = float(input(\"Enter kg: \"))\n",
    "cm = float(input(\"Enter cm: \"))\n",
    "\n",
    "converted_to_m = convert_cm_to_m(cm, CONVm)\n",
    "bmi = compute_bmi(kg, converted_to_m)\n",
    "\n",
    "print(\"BMI: \", bmi)\n"
   ]
  },
  {
   "cell_type": "code",
   "execution_count": null,
   "metadata": {},
   "outputs": [],
   "source": []
  }
 ],
 "metadata": {
  "kernelspec": {
   "display_name": "Python 3",
   "language": "python",
   "name": "python3"
  },
  "language_info": {
   "codemirror_mode": {
    "name": "ipython",
    "version": 3
   },
   "file_extension": ".py",
   "mimetype": "text/x-python",
   "name": "python",
   "nbconvert_exporter": "python",
   "pygments_lexer": "ipython3",
   "version": "3.8.5"
  }
 },
 "nbformat": 4,
 "nbformat_minor": 4
}
