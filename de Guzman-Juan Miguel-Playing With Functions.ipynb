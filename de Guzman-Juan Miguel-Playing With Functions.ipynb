{
 "cells": [
  {
   "cell_type": "markdown",
   "metadata": {},
   "source": [
    "# 1\n",
    "## 1 Point\n",
    "Write a function that takes the circumference of a circle as a parameter and returns the area of that circle.\n",
    "Note: Assume the value of pi is 3.1416"
   ]
  },
  {
   "cell_type": "code",
   "execution_count": 2,
   "metadata": {},
   "outputs": [],
   "source": [
    "pi = 3.1416\n",
    "\n",
    "def diameter(circumference, pi):\n",
    "    diameter = circumference / pi\n",
    "    return diameter\n",
    "\n",
    "def radius (diameter):\n",
    "    radius = diameter / 2\n",
    "    return radius\n",
    "\n",
    "def radius_squared(radius):\n",
    "    radius_squared = radius * radius\n",
    "    return radius_squared\n",
    "\n",
    "def area(radius_squared, pi):\n",
    "    area = radius_squared * pi\n",
    "    return area"
   ]
  },
  {
   "cell_type": "code",
   "execution_count": 3,
   "metadata": {},
   "outputs": [
    {
     "name": "stdout",
     "output_type": "stream",
     "text": [
      "Enter the circle's circumference: 10\n",
      "The area of the circle is 7.957728545963841\n"
     ]
    }
   ],
   "source": [
    "# get circumference of the circle\n",
    "circumference = float(input(\"Enter the circle's circumference: \"))\n",
    "\n",
    "# divide by pi (3.1416) to get diameter\n",
    "diameter = circumference / pi\n",
    "\n",
    "# divide diameter by 2 to get radius\n",
    "radius = diameter / 2\n",
    "\n",
    "# get the square of the radius\n",
    "radius_squared = radius * radius\n",
    "\n",
    "# pi times radius squared to get area of the circle\n",
    "area = 3.1416 * radius_squared\n",
    "\n",
    "# display area of the circle\n",
    "print(\"The area of the circle is\", area)"
   ]
  },
  {
   "cell_type": "markdown",
   "metadata": {},
   "source": [
    "# 2\n",
    "## 2 Points\n",
    "Write a function that takes a 5-character string as a parameter and returns the string in reverse order.\n",
    "\n",
    "e.g. reverseString(\"Hello\") -> \"olleH\""
   ]
  },
  {
   "cell_type": "code",
   "execution_count": 4,
   "metadata": {},
   "outputs": [
    {
     "name": "stdout",
     "output_type": "stream",
     "text": [
      "Enter Text Here: Hello\n",
      "olleH"
     ]
    }
   ],
   "source": [
    "text = input(\"Enter Text Here: \")\n",
    "\n",
    "print(text[4], end = '')\n",
    "print(text[3], end = '')\n",
    "print(text[2], end = '')\n",
    "print(text[1], end = '')\n",
    "print(text[0], end = '')"
   ]
  },
  {
   "cell_type": "markdown",
   "metadata": {},
   "source": [
    "# 3\n",
    "## 2 Points\n",
    "Write a function that takes a positive integer as input and returns the sum of all positive integers smaller than and including the number itself.\n",
    "\n",
    "e.g. backAddition(5) -> 1 + 2 + 3 + 4 + 5 -> 15"
   ]
  },
  {
   "cell_type": "code",
   "execution_count": 6,
   "metadata": {},
   "outputs": [
    {
     "name": "stdout",
     "output_type": "stream",
     "text": [
      "Enter Number Here: 10\n",
      "Sum of all postive integers smaller than and including the number itself:  55\n"
     ]
    }
   ],
   "source": [
    "i = int(input(\"Enter Number Here: \"))\n",
    "sum = 0\n",
    "\n",
    "for value in range (1, i + 1):\n",
    "    sum = sum + value\n",
    "print(\"Sum of all postive integers smaller than and including the number itself: \", sum)\n",
    "\n"
   ]
  },
  {
   "cell_type": "markdown",
   "metadata": {},
   "source": [
    "# 4\n",
    "## 5 Points (all or nothing)\n",
    "The sum of the squares of the first ten natural numbers is, 12 + 22 + ... + 102 = 385\n",
    "\n",
    "The square of the sum of the first ten natural numbers is, (1 + 2 + ... + 10)2 = 552 = 3025\n",
    "\n",
    "Hence the difference between the sum of the squares of the first ten natural numbers and the square of the sum is 3025 − 385 = 2640.\n",
    "\n",
    "Find the difference between the sum of the squares of the first one hundred natural numbers and the square of the sum.\n",
    "\n",
    "Show code that generates the answer."
   ]
  },
  {
   "cell_type": "code",
   "execution_count": 7,
   "metadata": {},
   "outputs": [
    {
     "name": "stdout",
     "output_type": "stream",
     "text": [
      "Answer:  25164150\n"
     ]
    }
   ],
   "source": [
    "# get the sum of the squares of the first 100 natural numbers\n",
    "def sum_of_squares(n):\n",
    "    sum_a = 0\n",
    "    for i in range(1, n + 1):\n",
    "        sum_a = sum_a + (i * i)\n",
    "    return sum_a\n",
    "\n",
    "n = 100\n",
    "\n",
    "# get the square of the sum of the first 100 natural numbers\n",
    "i = 100\n",
    "sum_b = 0\n",
    "\n",
    "for value in range (1, i + 1):\n",
    "    sum_b = sum_b + value\n",
    "    square_of_the_sum = sum_b ** 2\n",
    "\n",
    "# subtract square of the sum from sum of the squares to get the final answer\n",
    "final_answer = square_of_the_sum - (sum_of_squares(n))\n",
    "print(\"Answer: \", final_answer)\n"
   ]
  },
  {
   "cell_type": "markdown",
   "metadata": {},
   "source": [
    "# 5\n",
    "5 points\n",
    "Write a function that allows a self-service Point of Sale system to give you the exact change when you pay in cash.\n",
    "\n",
    "The function should accept the number of cents entered by the caller of the function. It then should display the denominations of the coins that should be given to the buyer. The change should use as few coins as possible. Assume that the Point of Sale system is loaded with 1 cent, 5 cents, 10 cents, 25 cents and 1 peso coins.\n",
    "\n",
    "Write main program code that accepts the number of cents manually through user input and calls the function written above.\n",
    "\n",
    "Input: The program accepts one positive integer, cents, corresponding to the total change to be given by the Point of Sale system.\n",
    "\n",
    "Output: The number of 1 peso, 25 cents, 10 cents, 5 cents and 1 cent coins respectively. There should be one output per line.\n",
    "\n",
    "Sample Input 1:\n",
    "105\n",
    "\n",
    "Sample Output 1  \n",
    "    1  \n",
    "    0  \n",
    "    0  \n",
    "    1  \n",
    "    0  \n",
    "\n",
    "Sample Input 2:\n",
    "69\n",
    "\n",
    "Sample Output 2:  \n",
    "    0    \n",
    "    2    \n",
    "    1    \n",
    "    1    \n",
    "    4    "
   ]
  },
  {
   "cell_type": "code",
   "execution_count": 8,
   "metadata": {},
   "outputs": [
    {
     "name": "stdout",
     "output_type": "stream",
     "text": [
      "Input change: 69\n",
      "0\n",
      "2\n",
      "1\n",
      "1\n",
      "4\n"
     ]
    }
   ],
   "source": [
    "customer_input = float(input(\"Input change: \"))\n",
    "\n",
    "one_peso = int(customer_input / 100)\n",
    "print(one_peso)\n",
    "a = customer_input % 100\n",
    "\n",
    "twentyfive_cents = int(a / 25)\n",
    "print(twentyfive_cents)\n",
    "a = customer_input % 25\n",
    "\n",
    "ten_cents = int(a / 10)\n",
    "print(ten_cents)\n",
    "a = customer_input % 10\n",
    "\n",
    "five_cents = int(a / 5)\n",
    "print(five_cents)\n",
    "a = customer_input % 5\n",
    "\n",
    "one_cent = int(a / 1)\n",
    "print(one_cent)\n",
    "a = customer_input % 1   "
   ]
  },
  {
   "cell_type": "code",
   "execution_count": null,
   "metadata": {},
   "outputs": [],
   "source": []
  }
 ],
 "metadata": {
  "kernelspec": {
   "display_name": "Python 3",
   "language": "python",
   "name": "python3"
  },
  "language_info": {
   "codemirror_mode": {
    "name": "ipython",
    "version": 3
   },
   "file_extension": ".py",
   "mimetype": "text/x-python",
   "name": "python",
   "nbconvert_exporter": "python",
   "pygments_lexer": "ipython3",
   "version": "3.8.5"
  }
 },
 "nbformat": 4,
 "nbformat_minor": 4
}
