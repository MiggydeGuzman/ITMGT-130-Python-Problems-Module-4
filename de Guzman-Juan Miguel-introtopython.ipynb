{
 "cells": [
  {
   "cell_type": "markdown",
   "metadata": {},
   "source": [
    "# Student ID\n",
    "### 172717\n",
    "# Surname\n",
    "### de Guzman\n",
    "# Year and Course\n",
    "### 4 BS MGT"
   ]
  },
  {
   "cell_type": "code",
   "execution_count": 2,
   "metadata": {},
   "outputs": [],
   "source": [
    "def three_number_average(Firstnumber, Secondnumber, Thirdnumber):\n",
    "    average = (Firstnumber + Secondnumber + Thirdnumber) / 3\n",
    "    return average"
   ]
  },
  {
   "cell_type": "code",
   "execution_count": 3,
   "metadata": {},
   "outputs": [
    {
     "name": "stdout",
     "output_type": "stream",
     "text": [
      "Enter First Number: 2\n",
      "Enter Second Number: 3\n",
      "Enter Third Number: 4\n",
      "The average is 3.0\n"
     ]
    }
   ],
   "source": [
    "# ask for first number\n",
    "Firstnumber = float(input(\"Enter First Number: \"))\n",
    "\n",
    "# ask for second number\n",
    "Secondnumber =  float(input(\"Enter Second Number: \"))\n",
    "\n",
    "# ask for third number\n",
    "Thirdnumber =  float(input(\"Enter Third Number: \"))\n",
    "\n",
    "# compute for average\n",
    "average = three_number_average(Firstnumber, Secondnumber, Thirdnumber)\n",
    "\n",
    "#display the average\n",
    "print(\"The average is\", average)"
   ]
  }
 ],
 "metadata": {
  "kernelspec": {
   "display_name": "Python 3",
   "language": "python",
   "name": "python3"
  },
  "language_info": {
   "codemirror_mode": {
    "name": "ipython",
    "version": 3
   },
   "file_extension": ".py",
   "mimetype": "text/x-python",
   "name": "python",
   "nbconvert_exporter": "python",
   "pygments_lexer": "ipython3",
   "version": "3.8.5"
  }
 },
 "nbformat": 4,
 "nbformat_minor": 4
}
